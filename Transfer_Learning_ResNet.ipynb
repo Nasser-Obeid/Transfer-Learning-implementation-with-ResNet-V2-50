{
  "nbformat": 4,
  "nbformat_minor": 0,
  "metadata": {
    "colab": {
      "provenance": [],
      "mount_file_id": "1Gg8LLl8cU6g8E16ETIMRNzrDk8ra4mmF",
      "authorship_tag": "ABX9TyOBKITTwBXWmgXz50u4yvqA",
      "include_colab_link": true
    },
    "kernelspec": {
      "name": "python3",
      "display_name": "Python 3"
    },
    "language_info": {
      "name": "python"
    }
  },
  "cells": [
    {
      "cell_type": "markdown",
      "metadata": {
        "id": "view-in-github",
        "colab_type": "text"
      },
      "source": [
        "<a href=\"https://colab.research.google.com/github/Nasser-Obeid/Transfer-Learning-implementation-with-ResNet-V2-50/blob/main/Transfer_Learning_ResNet.ipynb\" target=\"_parent\"><img src=\"https://colab.research.google.com/assets/colab-badge.svg\" alt=\"Open In Colab\"/></a>"
      ]
    },
    {
      "cell_type": "markdown",
      "source": [
        "## Todays project is about Transfer Learning using the ResNet architecture:\n",
        " Transfer learning is a very powerful tool to create new models to solve a specific problem with a model that is pre-trained to similar problem.\n",
        " So let's begin, with the \"imports\":\n"
      ],
      "metadata": {
        "id": "TRMeZd8alZoL"
      }
    },
    {
      "cell_type": "code",
      "execution_count": 13,
      "metadata": {
        "id": "n1TgGDLPuh-q"
      },
      "outputs": [],
      "source": [
        "# importing the nessacary libraries\n",
        "import zipfile\n",
        "import os\n",
        "import tensorflow as tf\n",
        "import cv2 as cv\n",
        "from tensorflow import keras\n",
        "# The ImageDataGenerator is used to quickly convert the whole dataset into a set of tensors\n",
        "from tensorflow.keras.preprocessing.image import ImageDataGenerator\n",
        "# Tensorflow_hub is used to import the ResNet V2 50 model\n",
        "import tensorflow_hub as hub"
      ]
    },
    {
      "cell_type": "code",
      "source": [
        "# Data set image binary classification problem of cats and dogs\n",
        "# Extracting the dataset file\n",
        "zip_ref = zipfile.ZipFile('/content/archive (1).zip')\n",
        "zip_ref.extractall()\n",
        "zip_ref.close()"
      ],
      "metadata": {
        "id": "HARJ6FN6oZjF"
      },
      "execution_count": 14,
      "outputs": []
    },
    {
      "cell_type": "markdown",
      "source": [
        "Intializing the training dataset and testing dataset:"
      ],
      "metadata": {
        "id": "TFLuC2ZWpT_v"
      }
    },
    {
      "cell_type": "code",
      "source": [
        "# Intializing constant for the size of the images and the batch size of training hyper parameters\n",
        "IMAGE_SHAPE = (150, 150)\n",
        "BATCH_SIZE = 16\n",
        "\n",
        "# Directories for the testing data and training data\n",
        "train_dir = \"/content/train\"\n",
        "test_dir = \"/content/test\"\n",
        "\n",
        "# Generating image dataset\n",
        "train_data_gen = ImageDataGenerator(rescale = 1/255.,\n",
        "                                    # Data augmentation\n",
        "                                    zoom_range = 0.1,\n",
        "                                    horizontal_flip = True)\n",
        "# Generating image dataset\n",
        "test_data_gen = ImageDataGenerator(rescale = 1/255.,\n",
        "                                   # Data augmentation\n",
        "                                   zoom_range = 0.1,\n",
        "                                   horizontal_flip = True)\n",
        "\n",
        "\n",
        "print(\"training dataset:\")\n",
        "train_data = train_data_gen.flow_from_directory(train_dir,\n",
        "                                                target_size = IMAGE_SHAPE,\n",
        "                                                batch_size = BATCH_SIZE,\n",
        "                                                class_mode = \"binary\")\n",
        "print(\"test dataset:\")\n",
        "test_data = test_data_gen.flow_from_directory(test_dir,\n",
        "                                               target_size = IMAGE_SHAPE,\n",
        "                                               batch_size = BATCH_SIZE,\n",
        "                                               class_mode = \"binary\")"
      ],
      "metadata": {
        "colab": {
          "base_uri": "https://localhost:8080/"
        },
        "id": "eMp1NCtBLVhT",
        "outputId": "cde37106-0184-447b-c4e8-3ab1dc6c209a"
      },
      "execution_count": 15,
      "outputs": [
        {
          "output_type": "stream",
          "name": "stdout",
          "text": [
            "training dataset:\n",
            "Found 557 images belonging to 2 classes.\n",
            "test dataset:\n",
            "Found 140 images belonging to 2 classes.\n"
          ]
        }
      ]
    },
    {
      "cell_type": "code",
      "source": [
        "resnet_url = \"https://tfhub.dev/google/imagenet/resnet_v2_50/feature_vector/5\"\n",
        "\n",
        "model = tf.keras.Sequential([\n",
        "    hub.KerasLayer(# ResNet V2 50 model trained on ImageNet\n",
        "                   resnet_url,\n",
        "                   # Freezing layer and keeping the weights\n",
        "                   trainable=False,\n",
        "                    # Adding dimension to the inputs shape\n",
        "                   input_shape = IMAGE_SHAPE + (3,)),\n",
        "    # Top layer\n",
        "    tf.keras.layers.Dense(250, name = \"Added_layer_1\", activation = \"relu\"),\n",
        "    tf.keras.layers.Dense(250, name = \"Added_layer_2\", activation = \"relu\"),\n",
        "    tf.keras.layers.Dense(100, name = \"Added_layer_3\", activation = \"relu\"),\n",
        "    tf.keras.layers.Dense(50, name = \"Added_layer_4\", activation = \"relu\"),\n",
        "    # Output layer is one node because this is a binary classification model\n",
        "    tf.keras.layers.Dense(1, name = \"Output_layer\", activation='sigmoid')\n",
        "])\n",
        "\n",
        "model.summary()"
      ],
      "metadata": {
        "id": "dI_12DjxaoTI",
        "colab": {
          "base_uri": "https://localhost:8080/"
        },
        "outputId": "1ee79e30-1a50-46ae-f272-2ff822969dc1"
      },
      "execution_count": 52,
      "outputs": [
        {
          "output_type": "stream",
          "name": "stdout",
          "text": [
            "Model: \"sequential_4\"\n",
            "_________________________________________________________________\n",
            " Layer (type)                Output Shape              Param #   \n",
            "=================================================================\n",
            " keras_layer_4 (KerasLayer)  (None, 2048)              23564800  \n",
            "                                                                 \n",
            " Added_layer_1 (Dense)       (None, 250)               512250    \n",
            "                                                                 \n",
            " Added_layer_2 (Dense)       (None, 250)               62750     \n",
            "                                                                 \n",
            " Added_layer_3 (Dense)       (None, 100)               25100     \n",
            "                                                                 \n",
            " Added_layer_4 (Dense)       (None, 50)                5050      \n",
            "                                                                 \n",
            " Output_layer (Dense)        (None, 1)                 51        \n",
            "                                                                 \n",
            "=================================================================\n",
            "Total params: 24170001 (92.20 MB)\n",
            "Trainable params: 605201 (2.31 MB)\n",
            "Non-trainable params: 23564800 (89.89 MB)\n",
            "_________________________________________________________________\n"
          ]
        }
      ]
    },
    {
      "cell_type": "markdown",
      "source": [
        "# ResNet is a powerful CNN architecture.\n",
        "\n",
        "\n",
        "*   Has over 20 million parameters (pre-trained with their wieghts and biases).\n",
        "*   Generalizes very well on the ImageNet test.\n",
        "*   Has a 1000 classes that it can identify.\n",
        "\n"
      ],
      "metadata": {
        "id": "DWjLOX5qqvOs"
      }
    },
    {
      "cell_type": "code",
      "source": [
        "# A graph showing the functionality of the we designed\n",
        "from tensorflow.keras.utils import plot_model\n",
        "\n",
        "plot_model(model = model, show_shapes = True)"
      ],
      "metadata": {
        "colab": {
          "base_uri": "https://localhost:8080/",
          "height": 754
        },
        "id": "qh-C9ll3l4wu",
        "outputId": "7258fa43-7fc5-448b-c58e-d8bea37e98c7"
      },
      "execution_count": 53,
      "outputs": [
        {
          "output_type": "execute_result",
          "data": {
            "image/png": "[encoded data removed]",
            "text/plain": [
              "<IPython.core.display.Image object>"
            ]
          },
          "metadata": {},
          "execution_count": 53
        }
      ]
    },
    {
      "cell_type": "markdown",
      "source": [
        "Our added layers will be the trained layers(we won't apply training on the frozen layers), and hopefully the model performs well."
      ],
      "metadata": {
        "id": "4VFrCM-4rwAj"
      }
    },
    {
      "cell_type": "code",
      "source": [
        "model.compile(# Compiling the model\n",
        "              loss = \"BinaryCrossentropy\",\n",
        "              optimizer = tf.keras.optimizers.Adam(),\n",
        "              # Using the binary cross entropy loss function and the Adam optimizer\n",
        "              metrics = \"accuracy\")"
      ],
      "metadata": {
        "id": "G3lWmY8lFWBz"
      },
      "execution_count": 54,
      "outputs": []
    },
    {
      "cell_type": "markdown",
      "source": [
        "# About the Binary Cross Entropy loss function and the Adam optimizer:\n",
        "\n",
        "* Binary cross entropy (also known as logarithmic loss or log loss) is a model metric that tracks incorrect labeling of the data class by a model, penalizing the model if deviations in probability occur into classifying the labels. Low log loss values equate to high accuracy values.\n",
        "* Adam optimizer, short for Adaptive Moment Estimation optimizer, is an optimization algorithm commonly used in deep learning. It is an extension of the stochastic gradient descent (SGD) algorithm and is designed to update the weights of a neural network during training."
      ],
      "metadata": {
        "id": "TuDv7XXLsYV6"
      }
    },
    {
      "cell_type": "code",
      "source": [
        "model.fit(# Fitting the model\n",
        "          train_data,\n",
        "          # The batch size of trained dataset\n",
        "          batch_size = BATCH_SIZE,\n",
        "          # Number of iterations\n",
        "          epochs = 15,\n",
        "          validation_data = test_data,\n",
        "          validation_batch_size = BATCH_SIZE,\n",
        "          # Early stopping when the loss gets no improvement\n",
        "          callbacks = tf.keras.callbacks.EarlyStopping(monitor = \"loss\", patience = 1, min_delta = 0.01))"
      ],
      "metadata": {
        "colab": {
          "base_uri": "https://localhost:8080/"
        },
        "id": "tm96AeLaHY1_",
        "outputId": "d0cfe7f6-d125-4d5a-d03f-3edfb01e66e8"
      },
      "execution_count": 55,
      "outputs": [
        {
          "output_type": "stream",
          "name": "stdout",
          "text": [
            "Epoch 1/15\n",
            "35/35 [==============================] - 75s 2s/step - loss: 0.3286 - accuracy: 0.8600 - val_loss: 0.2531 - val_accuracy: 0.8500\n",
            "Epoch 2/15\n",
            "35/35 [==============================] - 69s 2s/step - loss: 0.1053 - accuracy: 0.9623 - val_loss: 0.2158 - val_accuracy: 0.9214\n",
            "Epoch 3/15\n",
            "35/35 [==============================] - 73s 2s/step - loss: 0.0696 - accuracy: 0.9767 - val_loss: 0.2348 - val_accuracy: 0.9071\n",
            "Epoch 4/15\n",
            "35/35 [==============================] - 69s 2s/step - loss: 0.0461 - accuracy: 0.9785 - val_loss: 0.6831 - val_accuracy: 0.8357\n",
            "Epoch 5/15\n",
            "35/35 [==============================] - 69s 2s/step - loss: 0.0684 - accuracy: 0.9713 - val_loss: 0.1738 - val_accuracy: 0.9214\n"
          ]
        },
        {
          "output_type": "execute_result",
          "data": {
            "text/plain": [
              "<keras.src.callbacks.History at 0x7d177e6e65f0>"
            ]
          },
          "metadata": {},
          "execution_count": 55
        }
      ]
    },
    {
      "cell_type": "markdown",
      "source": [
        "Notice that we stopped at the 5th epoch (iteration) before reaching the final iteration, the reason behind this is that we reached the desired loss value after the fifth iteration, and based on that, the algorithm determined to stop the training."
      ],
      "metadata": {
        "id": "QQq9-7DRuMtT"
      }
    },
    {
      "cell_type": "code",
      "source": [
        "# Saving the model\n",
        "model.save('Transfer_model_save')"
      ],
      "metadata": {
        "id": "qXPZ_Mo9Mpsm"
      },
      "execution_count": 57,
      "outputs": []
    },
    {
      "cell_type": "markdown",
      "source": [
        "# Evaluation and prediction:\n",
        "\n",
        "> The most important step, Here we determine if the model is useful for our use case(hopefully it's useful).\n"
      ],
      "metadata": {
        "id": "XifkiklX_RUU"
      }
    },
    {
      "cell_type": "code",
      "source": [
        "model.evaluate(test_data)"
      ],
      "metadata": {
        "colab": {
          "base_uri": "https://localhost:8080/"
        },
        "id": "vzYNYj0Duz-H",
        "outputId": "844eb3d4-12b5-4d4e-986f-69c75e25f79c"
      },
      "execution_count": 58,
      "outputs": [
        {
          "output_type": "stream",
          "name": "stdout",
          "text": [
            "9/9 [==============================] - 12s 1s/step - loss: 0.2121 - accuracy: 0.9214\n"
          ]
        },
        {
          "output_type": "execute_result",
          "data": {
            "text/plain": [
              "[0.21209150552749634, 0.9214285612106323]"
            ]
          },
          "metadata": {},
          "execution_count": 58
        }
      ]
    },
    {
      "cell_type": "markdown",
      "source": [
        "Excellent, the model reached an accuracy of %92.14 and loss factor of 0.225, now that we determined our function is\n",
        "useable for our use case let's use it for classification."
      ],
      "metadata": {
        "id": "vwlKdhA_AtqD"
      }
    },
    {
      "cell_type": "code",
      "source": [
        " # Predicting using the test data list\n",
        " model.predict(test_data)"
      ],
      "metadata": {
        "colab": {
          "base_uri": "https://localhost:8080/"
        },
        "id": "iN9Mj7UwnliH",
        "outputId": "35ec8d48-0992-4a48-b61f-e8cf29ff9e5b"
      },
      "execution_count": 59,
      "outputs": [
        {
          "output_type": "stream",
          "name": "stdout",
          "text": [
            "9/9 [==============================] - 14s 1s/step\n"
          ]
        },
        {
          "output_type": "execute_result",
          "data": {
            "text/plain": [
              "array([[2.97858655e-01],\n",
              "       [1.32235427e-05],\n",
              "       [9.99989927e-01],\n",
              "       [1.53820565e-06],\n",
              "       [9.99930024e-01],\n",
              "       [9.97221291e-01],\n",
              "       [4.76433030e-07],\n",
              "       [5.27936709e-06],\n",
              "       [3.30127659e-03],\n",
              "       [9.99909043e-01],\n",
              "       [1.98558392e-03],\n",
              "       [9.99998748e-01],\n",
              "       [9.99867678e-01],\n",
              "       [9.99971330e-01],\n",
              "       [9.99998152e-01],\n",
              "       [9.99999762e-01],\n",
              "       [2.50160247e-01],\n",
              "       [9.76072311e-01],\n",
              "       [3.03598263e-05],\n",
              "       [2.69848943e-01],\n",
              "       [5.99392979e-06],\n",
              "       [2.38997508e-02],\n",
              "       [1.82753541e-02],\n",
              "       [9.99736667e-01],\n",
              "       [1.40343839e-03],\n",
              "       [3.96124661e-01],\n",
              "       [7.87564591e-02],\n",
              "       [9.79703844e-01],\n",
              "       [9.96436357e-01],\n",
              "       [2.73190090e-04],\n",
              "       [5.90333220e-05],\n",
              "       [1.28410044e-04],\n",
              "       [9.99242485e-01],\n",
              "       [9.91802573e-01],\n",
              "       [9.99974966e-01],\n",
              "       [9.99409914e-01],\n",
              "       [9.99925137e-01],\n",
              "       [9.99999881e-01],\n",
              "       [9.99915838e-01],\n",
              "       [9.99614120e-01],\n",
              "       [9.36855733e-01],\n",
              "       [9.95980561e-01],\n",
              "       [3.74670909e-03],\n",
              "       [1.48775667e-01],\n",
              "       [9.96175945e-01],\n",
              "       [2.12515821e-04],\n",
              "       [9.99303222e-01],\n",
              "       [6.88053435e-04],\n",
              "       [9.99435306e-01],\n",
              "       [1.23859686e-03],\n",
              "       [1.45089924e-02],\n",
              "       [4.23106598e-04],\n",
              "       [6.65791845e-07],\n",
              "       [1.54829497e-04],\n",
              "       [7.66749799e-01],\n",
              "       [9.99335408e-01],\n",
              "       [9.71219659e-01],\n",
              "       [7.32015491e-01],\n",
              "       [9.99568105e-01],\n",
              "       [2.86674034e-02],\n",
              "       [2.31873332e-06],\n",
              "       [9.99999583e-01],\n",
              "       [1.29979526e-05],\n",
              "       [2.91076940e-05],\n",
              "       [9.99916434e-01],\n",
              "       [9.99978304e-01],\n",
              "       [4.06864762e-01],\n",
              "       [8.60579803e-06],\n",
              "       [9.99999940e-01],\n",
              "       [9.80618715e-01],\n",
              "       [3.49283619e-05],\n",
              "       [9.98477459e-01],\n",
              "       [9.99996841e-01],\n",
              "       [3.25704696e-06],\n",
              "       [1.09520589e-03],\n",
              "       [1.12250960e-03],\n",
              "       [4.59369868e-02],\n",
              "       [9.99986768e-01],\n",
              "       [5.18879096e-04],\n",
              "       [1.49729996e-04],\n",
              "       [8.84270728e-01],\n",
              "       [4.07533389e-06],\n",
              "       [9.90607917e-01],\n",
              "       [9.99901593e-01],\n",
              "       [2.18930878e-02],\n",
              "       [5.09468079e-01],\n",
              "       [6.53406605e-03],\n",
              "       [7.11530983e-01],\n",
              "       [9.98754680e-01],\n",
              "       [6.86196029e-01],\n",
              "       [1.29120584e-04],\n",
              "       [9.99982178e-01],\n",
              "       [9.99978423e-01],\n",
              "       [9.98917460e-01],\n",
              "       [8.29146884e-05],\n",
              "       [9.99982417e-01],\n",
              "       [9.99989152e-01],\n",
              "       [1.31711477e-06],\n",
              "       [9.54566777e-01],\n",
              "       [9.94928360e-01],\n",
              "       [9.99937952e-01],\n",
              "       [9.99991775e-01],\n",
              "       [3.52496281e-05],\n",
              "       [7.15495626e-05],\n",
              "       [9.99977648e-01],\n",
              "       [9.99999762e-01],\n",
              "       [9.84579146e-01],\n",
              "       [2.22703820e-05],\n",
              "       [2.98600586e-04],\n",
              "       [9.99994099e-01],\n",
              "       [9.99966204e-01],\n",
              "       [9.99986053e-01],\n",
              "       [9.99931991e-01],\n",
              "       [4.22039390e-01],\n",
              "       [2.55736340e-05],\n",
              "       [1.37105258e-03],\n",
              "       [9.95558381e-01],\n",
              "       [6.39328718e-01],\n",
              "       [9.30095375e-01],\n",
              "       [1.15678966e-04],\n",
              "       [9.99917209e-01],\n",
              "       [4.27805454e-01],\n",
              "       [8.17670298e-06],\n",
              "       [9.99999046e-01],\n",
              "       [9.99999881e-01],\n",
              "       [5.54680109e-01],\n",
              "       [9.99998629e-01],\n",
              "       [7.85128891e-01],\n",
              "       [9.99985337e-01],\n",
              "       [9.00472999e-01],\n",
              "       [9.99998510e-01],\n",
              "       [8.91563017e-03],\n",
              "       [9.38971411e-04],\n",
              "       [7.46940373e-07],\n",
              "       [1.77998006e-01],\n",
              "       [9.71480727e-01],\n",
              "       [8.31815669e-06],\n",
              "       [9.99950528e-01],\n",
              "       [6.34369382e-04],\n",
              "       [4.70322004e-04]], dtype=float32)"
            ]
          },
          "metadata": {},
          "execution_count": 59
        }
      ]
    },
    {
      "cell_type": "code",
      "source": [
        "# Prediction on single images\n",
        "cat = cv.imread('/content/2560px-A-Cat.jpg')\n",
        "# Making sure the size of images is the same as the dataset size\n",
        "cat = cv.resize(cat, dsize= IMAGE_SHAPE, interpolation = cv.INTER_AREA)\n",
        "\n",
        "# Turning the images in tensors to utilize the power of Googles TPUs\n",
        "cat = tf.constant(cat)\n",
        "cat = tf.expand_dims(cat, axis = 0)/255\n",
        "\n",
        "dog = cv.imread('/content/Dog_Breeds.jpg')\n",
        "dog = cv.resize(dog, dsize= IMAGE_SHAPE, interpolation = cv.INTER_AREA)\n",
        "\n",
        "dog = tf.constant(dog)\n",
        "dog = tf.expand_dims(dog, axis = 0)/255\n",
        "cat.shape, dog.shape"
      ],
      "metadata": {
        "colab": {
          "base_uri": "https://localhost:8080/"
        },
        "id": "QtVLZpOJ_5Wz",
        "outputId": "b8dcaf74-7e14-459a-be87-ffc5b160961c"
      },
      "execution_count": 60,
      "outputs": [
        {
          "output_type": "execute_result",
          "data": {
            "text/plain": [
              "(TensorShape([1, 150, 150, 3]), TensorShape([1, 150, 150, 3]))"
            ]
          },
          "metadata": {},
          "execution_count": 60
        }
      ]
    },
    {
      "cell_type": "code",
      "source": [
        "model.predict(cat), model.predict(dog)"
      ],
      "metadata": {
        "colab": {
          "base_uri": "https://localhost:8080/"
        },
        "id": "x6pGAf6ZFan_",
        "outputId": "ce9844a5-eb79-43f3-e1dc-38cc0c911d8d"
      },
      "execution_count": 61,
      "outputs": [
        {
          "output_type": "stream",
          "name": "stdout",
          "text": [
            "1/1 [==============================] - 1s 926ms/step\n",
            "1/1 [==============================] - 0s 125ms/step\n"
          ]
        },
        {
          "output_type": "execute_result",
          "data": {
            "text/plain": [
              "(array([[6.6263046e-06]], dtype=float32), array([[0.99998164]], dtype=float32))"
            ]
          },
          "metadata": {},
          "execution_count": 61
        }
      ]
    },
    {
      "cell_type": "markdown",
      "source": [
        "As we can see it returned a tensor full of arrays, the\n",
        "closer an index is to 0 then it is classified as class [0] which is in this case class cats, and if an index had a percentage close to 1 then the model classifies it as class [1] which is dogs."
      ],
      "metadata": {
        "id": "NqojSZBDBcdj"
      }
    },
    {
      "cell_type": "markdown",
      "source": [
        "# In conclusion:\n",
        "\n",
        "Transfer learning helps us complete tasks using the leverage of a sophisticated, more powerful pre-trained model while maintaining a generalized output and less error when training the new model."
      ],
      "metadata": {
        "id": "oVHjBj7xviEU"
      }
    }
  ]
}